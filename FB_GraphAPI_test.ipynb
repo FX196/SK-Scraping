{
 "cells": [
  {
   "cell_type": "code",
   "execution_count": 1,
   "metadata": {
    "collapsed": true
   },
   "outputs": [],
   "source": [
    "import facebook\n",
    "import urllib3\n",
    "import requests\n",
    "from openpyxl import Workbook\n",
    "from openpyxl.utils.exceptions import IllegalCharacterError\n",
    "from datetime import datetime, timezone\n",
    "import urllib.request\n",
    "import time\n",
    "\n",
    "token = \"EAACXp46VJZBgBACPLif9vOQhTU6u0sdMDcqbiHhn1jMJVOiArKZBDISyoHk6vOCKkEAKqGsCZBrwOrFTwLelUXBNjAQfudSw5IZBZAzZBgEdC6aukoUxPKygaX8VQpZCYhcRe5zdvXXKQzPbRn02njcGxGkEOg9kEkxM487MKF6VQZDZD\"\n",
    "post_id = \"1049379735171791_1578479555595137\"\n",
    "graph = facebook.GraphAPI(access_token=token, version=3.0)"
   ]
  },
  {
   "cell_type": "code",
   "execution_count": 2,
   "metadata": {
    "collapsed": true
   },
   "outputs": [
    {
     "name": "stdout",
     "output_type": "stream",
     "text": [
      "dict_keys(['data', 'paging'])\n1056\n1578479555595137_1582014508574975\n\n1)ID451044531\n2) Nubbie\n3) Tiny Warhammer\n4) Palladin\n5) I think it fits the palladin to have a hammer.\nI see him as a dwarf.\n6) Works like any hammer with a small radius and high rate of slamming.\nLow crit chance.\n\nhttps://scontent.xx.fbcdn.net/v/t1.0-9/38201147_1049184975259101_8965713590103310336_n.jpg?_nc_cat=0&oh=4c27499a1cd8e6f5a2c813d0832615a0&oe=5C12C001\n\n2018-08-01T18:29:17+0000\n"
     ]
    },
    {
     "data": {
      "text/plain": [
       "'\\nGet the comment ids from the list of comments and query them one by one.\\nUse get_object with comment_id and fields \"message\" (for text) and \"attachment\" (for pictures)\\nAttachment includes field \"src\". Use \"src\" to get image source.\\n'"
      ]
     },
     "execution_count": 2,
     "metadata": {},
     "output_type": "execute_result"
    }
   ],
   "source": [
    "#post = graph.get_object(id='100009925003680_1578479555595137')\n",
    "\n",
    "\"\"\"page = graph.get_object('1049379735171791')\n",
    "posts = graph.get_connections('1049379735171791','posts')\n",
    "print(page)\n",
    "postList = posts['data']\n",
    "print(postList[4])\"\"\"\n",
    "\n",
    "post = graph.get_object(\"1049379735171791_1578479555595137\")\n",
    "comments = graph.get_connections(\"1049379735171791_1578479555595137\", 'comments',limit=2000)\n",
    "\n",
    "\"\"\"\n",
    "Use page_id + '_' + post_id to find post,\n",
    "then, with the composite id, use get_connections(composite_id, 'comments', limit=n) to get all the comments\n",
    "n = max amount of comments queried.\n",
    "\"\"\"\n",
    "\n",
    "\n",
    "\n",
    "print(comments.keys())\n",
    "print(len(comments['data']))\n",
    "\n",
    "\"\"\"\n",
    "comments['data'] will return a list of comments\n",
    "\"\"\"\n",
    "\n",
    "\n",
    "comment_id = comments['data'][302]['id']\n",
    "print(comment_id)\n",
    "test_comment = graph.get_object(comment_id,fields='message,attachment,created_time')\n",
    "print()\n",
    "print(test_comment['message'])\n",
    "print()\n",
    "if 'attachment' in test_comment.keys():\n",
    "    print(test_comment['attachment']['media']['image']['src'])\n",
    "else:\n",
    "    print(\"No attachment\")\n",
    "print()\n",
    "print(test_comment['created_time'])\n",
    "\n",
    "\"\"\"\n",
    "Get the comment ids from the list of comments and query them one by one.\n",
    "Use get_object with comment_id and fields \"message\" (for text) and \"attachment\" (for pictures)\n",
    "Attachment includes field \"src\". Use \"src\" to get image source.\n",
    "\"\"\""
   ]
  },
  {
   "cell_type": "code",
   "execution_count": 2,
   "metadata": {},
   "outputs": [],
   "source": [
    "class FacebookScraper:\n",
    "    def __init__(self, token, post_id):\n",
    "        self.graph = facebook.GraphAPI(access_token=token, version=3.0)\n",
    "        self.post_id = post_id\n",
    "        self.deadline = datetime(2018, 8, 13, 15, 59, 59, tzinfo=timezone.utc)\n",
    "        self.wb = Workbook()\n",
    "        self.ws = self.wb.active\n",
    "        self.ws.title = \"Facebook\"\n",
    "        self.next_row = 1\n",
    "        self.row_dict = {1: 1}\n",
    "\n",
    "    def get_comments(self):\n",
    "        post = self.graph.get_object(self.post_id)\n",
    "        comments = self.graph.get_connections(self.post_id, 'comments', limit=2000)\n",
    "        print(\"Grabbing %d comments\" % len(comments['data']))\n",
    "        return comments  # returns dict of comments\n",
    "\n",
    "    def parse_comment(self, comment_id):\n",
    "        comment = self.graph.get_object(comment_id, fields='message,attachment,created_time')\n",
    "        # comment_id = comment_id\n",
    "        time.sleep(2)\n",
    "        comment_text = comment['message']\n",
    "        if 'attachment' in comment.keys():\n",
    "            comment_img_src = comment['attachment']['media']['image']['src']\n",
    "        else:\n",
    "            comment_img_src = None\n",
    "        comment_time = comment['created_time']\n",
    "\n",
    "        return comment_id, comment_text, comment_time, comment_img_src\n",
    "\n",
    "    def insert_to_worksheet(self):\n",
    "        comments = self.get_comments()\n",
    "        for i in range(len(comments['data'])):\n",
    "            parsed = self.parse_comment(comments['data'][i]['id'])\n",
    "            if len(parsed[1]) < 30 or datetime.strptime(parsed[2], \"%Y-%m-%dT%H:%M:%S%z\") > self.deadline:\n",
    "                continue\n",
    "            text_data, img_data = list(parsed[:-1]), parsed[-1]\n",
    "            for i in range(3):\n",
    "                try:\n",
    "                    self.ws.cell(row=self.next_row, column=(i + 1), value=text_data[i])\n",
    "                except IllegalCharacterError:\n",
    "                    pass\n",
    "            col = 4\n",
    "            if img_data:\n",
    "                # save image\n",
    "                img_url = img_data\n",
    "                urllib.request.urlretrieve(img_url,\n",
    "                                           \"/Users/yuhongc/PycharmProjects/SK_Weapon_Event/Facebook_Pictures/%s-%d.jpg\" % (\n",
    "                                               parsed[0], col - 3))\n",
    "                # insert to worksheet\n",
    "\n",
    "                col += 1\n",
    "            self.next_row += 1\n",
    "            if self.next_row % 100 == 0:\n",
    "                print(\"Processed %d rows\" % self.next_row)\n",
    "                self.save(self.next_row)\n",
    "\n",
    "    def save(self, checkpoint=None):\n",
    "        if not checkpoint:\n",
    "            self.wb.save('Facebook.xlsx')\n",
    "        else:\n",
    "            self.wb.save('Facebook-checkpoint-%d.xlsx' % checkpoint)\n"
   ]
  },
  {
   "cell_type": "code",
   "execution_count": 3,
   "metadata": {},
   "outputs": [],
   "source": [
    "FBScraper = FacebookScraper(token, post_id)"
   ]
  },
  {
   "cell_type": "code",
   "execution_count": 4,
   "metadata": {},
   "outputs": [
    {
     "ename": "GraphAPIError",
     "evalue": "(#4) Application request limit reached",
     "traceback": [
      "\u001b[0;31m---------------------------------------------------------------------------\u001b[0m",
      "\u001b[0;31mGraphAPIError\u001b[0m                             Traceback (most recent call last)",
      "\u001b[0;32m<ipython-input-4-9e1de2793d71>\u001b[0m in \u001b[0;36m<module>\u001b[0;34m()\u001b[0m\n\u001b[0;32m----> 1\u001b[0;31m \u001b[0mFBScraper\u001b[0m\u001b[0;34m.\u001b[0m\u001b[0minsert_to_worksheet\u001b[0m\u001b[0;34m(\u001b[0m\u001b[0;34m)\u001b[0m\u001b[0;34m\u001b[0m\u001b[0m\n\u001b[0m",
      "\u001b[0;32m<ipython-input-2-72eaf8ecb3f2>\u001b[0m in \u001b[0;36minsert_to_worksheet\u001b[0;34m(self)\u001b[0m\n\u001b[1;32m     30\u001b[0m \u001b[0;34m\u001b[0m\u001b[0m\n\u001b[1;32m     31\u001b[0m     \u001b[0;32mdef\u001b[0m \u001b[0minsert_to_worksheet\u001b[0m\u001b[0;34m(\u001b[0m\u001b[0mself\u001b[0m\u001b[0;34m)\u001b[0m\u001b[0;34m:\u001b[0m\u001b[0;34m\u001b[0m\u001b[0m\n\u001b[0;32m---> 32\u001b[0;31m         \u001b[0mcomments\u001b[0m \u001b[0;34m=\u001b[0m \u001b[0mself\u001b[0m\u001b[0;34m.\u001b[0m\u001b[0mget_comments\u001b[0m\u001b[0;34m(\u001b[0m\u001b[0;34m)\u001b[0m\u001b[0;34m\u001b[0m\u001b[0m\n\u001b[0m\u001b[1;32m     33\u001b[0m         \u001b[0;32mfor\u001b[0m \u001b[0mi\u001b[0m \u001b[0;32min\u001b[0m \u001b[0mrange\u001b[0m\u001b[0;34m(\u001b[0m\u001b[0mlen\u001b[0m\u001b[0;34m(\u001b[0m\u001b[0mcomments\u001b[0m\u001b[0;34m[\u001b[0m\u001b[0;34m'data'\u001b[0m\u001b[0;34m]\u001b[0m\u001b[0;34m)\u001b[0m\u001b[0;34m)\u001b[0m\u001b[0;34m:\u001b[0m\u001b[0;34m\u001b[0m\u001b[0m\n\u001b[1;32m     34\u001b[0m             \u001b[0mparsed\u001b[0m \u001b[0;34m=\u001b[0m \u001b[0mself\u001b[0m\u001b[0;34m.\u001b[0m\u001b[0mparse_comment\u001b[0m\u001b[0;34m(\u001b[0m\u001b[0mcomments\u001b[0m\u001b[0;34m[\u001b[0m\u001b[0;34m'data'\u001b[0m\u001b[0;34m]\u001b[0m\u001b[0;34m[\u001b[0m\u001b[0mi\u001b[0m\u001b[0;34m]\u001b[0m\u001b[0;34m[\u001b[0m\u001b[0;34m'id'\u001b[0m\u001b[0;34m]\u001b[0m\u001b[0;34m)\u001b[0m\u001b[0;34m\u001b[0m\u001b[0m\n",
      "\u001b[0;32m<ipython-input-2-72eaf8ecb3f2>\u001b[0m in \u001b[0;36mget_comments\u001b[0;34m(self)\u001b[0m\n\u001b[1;32m     11\u001b[0m \u001b[0;34m\u001b[0m\u001b[0m\n\u001b[1;32m     12\u001b[0m     \u001b[0;32mdef\u001b[0m \u001b[0mget_comments\u001b[0m\u001b[0;34m(\u001b[0m\u001b[0mself\u001b[0m\u001b[0;34m)\u001b[0m\u001b[0;34m:\u001b[0m\u001b[0;34m\u001b[0m\u001b[0m\n\u001b[0;32m---> 13\u001b[0;31m         \u001b[0mpost\u001b[0m \u001b[0;34m=\u001b[0m \u001b[0mself\u001b[0m\u001b[0;34m.\u001b[0m\u001b[0mgraph\u001b[0m\u001b[0;34m.\u001b[0m\u001b[0mget_object\u001b[0m\u001b[0;34m(\u001b[0m\u001b[0mself\u001b[0m\u001b[0;34m.\u001b[0m\u001b[0mpost_id\u001b[0m\u001b[0;34m)\u001b[0m\u001b[0;34m\u001b[0m\u001b[0m\n\u001b[0m\u001b[1;32m     14\u001b[0m         \u001b[0mcomments\u001b[0m \u001b[0;34m=\u001b[0m \u001b[0mself\u001b[0m\u001b[0;34m.\u001b[0m\u001b[0mgraph\u001b[0m\u001b[0;34m.\u001b[0m\u001b[0mget_connections\u001b[0m\u001b[0;34m(\u001b[0m\u001b[0mself\u001b[0m\u001b[0;34m.\u001b[0m\u001b[0mpost_id\u001b[0m\u001b[0;34m,\u001b[0m \u001b[0;34m'comments'\u001b[0m\u001b[0;34m,\u001b[0m \u001b[0mlimit\u001b[0m\u001b[0;34m=\u001b[0m\u001b[0;36m2000\u001b[0m\u001b[0;34m)\u001b[0m\u001b[0;34m\u001b[0m\u001b[0m\n\u001b[1;32m     15\u001b[0m         \u001b[0mprint\u001b[0m\u001b[0;34m(\u001b[0m\u001b[0;34m\"Grabbing %d comments\"\u001b[0m \u001b[0;34m%\u001b[0m \u001b[0mlen\u001b[0m\u001b[0;34m(\u001b[0m\u001b[0mcomments\u001b[0m\u001b[0;34m[\u001b[0m\u001b[0;34m'data'\u001b[0m\u001b[0;34m]\u001b[0m\u001b[0;34m)\u001b[0m\u001b[0;34m)\u001b[0m\u001b[0;34m\u001b[0m\u001b[0m\n",
      "\u001b[0;32m/Users/yuhongc/PycharmProjects/Scraping/lib/python3.7/site-packages/facebook/__init__.py\u001b[0m in \u001b[0;36mget_object\u001b[0;34m(self, id, **args)\u001b[0m\n\u001b[1;32m    114\u001b[0m     \u001b[0;32mdef\u001b[0m \u001b[0mget_object\u001b[0m\u001b[0;34m(\u001b[0m\u001b[0mself\u001b[0m\u001b[0;34m,\u001b[0m \u001b[0mid\u001b[0m\u001b[0;34m,\u001b[0m \u001b[0;34m**\u001b[0m\u001b[0margs\u001b[0m\u001b[0;34m)\u001b[0m\u001b[0;34m:\u001b[0m\u001b[0;34m\u001b[0m\u001b[0m\n\u001b[1;32m    115\u001b[0m         \u001b[0;34m\"\"\"Fetches the given object from the graph.\"\"\"\u001b[0m\u001b[0;34m\u001b[0m\u001b[0m\n\u001b[0;32m--> 116\u001b[0;31m         \u001b[0;32mreturn\u001b[0m \u001b[0mself\u001b[0m\u001b[0;34m.\u001b[0m\u001b[0mrequest\u001b[0m\u001b[0;34m(\u001b[0m\u001b[0;34m\"{0}/{1}\"\u001b[0m\u001b[0;34m.\u001b[0m\u001b[0mformat\u001b[0m\u001b[0;34m(\u001b[0m\u001b[0mself\u001b[0m\u001b[0;34m.\u001b[0m\u001b[0mversion\u001b[0m\u001b[0;34m,\u001b[0m \u001b[0mid\u001b[0m\u001b[0;34m)\u001b[0m\u001b[0;34m,\u001b[0m \u001b[0margs\u001b[0m\u001b[0;34m)\u001b[0m\u001b[0;34m\u001b[0m\u001b[0m\n\u001b[0m\u001b[1;32m    117\u001b[0m \u001b[0;34m\u001b[0m\u001b[0m\n\u001b[1;32m    118\u001b[0m     \u001b[0;32mdef\u001b[0m \u001b[0mget_objects\u001b[0m\u001b[0;34m(\u001b[0m\u001b[0mself\u001b[0m\u001b[0;34m,\u001b[0m \u001b[0mids\u001b[0m\u001b[0;34m,\u001b[0m \u001b[0;34m**\u001b[0m\u001b[0margs\u001b[0m\u001b[0;34m)\u001b[0m\u001b[0;34m:\u001b[0m\u001b[0;34m\u001b[0m\u001b[0m\n",
      "\u001b[0;32m/Users/yuhongc/PycharmProjects/Scraping/lib/python3.7/site-packages/facebook/__init__.py\u001b[0m in \u001b[0;36mrequest\u001b[0;34m(self, path, args, post_args, files, method)\u001b[0m\n\u001b[1;32m    288\u001b[0m \u001b[0;34m\u001b[0m\u001b[0m\n\u001b[1;32m    289\u001b[0m         \u001b[0;32mif\u001b[0m \u001b[0mresult\u001b[0m \u001b[0;32mand\u001b[0m \u001b[0misinstance\u001b[0m\u001b[0;34m(\u001b[0m\u001b[0mresult\u001b[0m\u001b[0;34m,\u001b[0m \u001b[0mdict\u001b[0m\u001b[0;34m)\u001b[0m \u001b[0;32mand\u001b[0m \u001b[0mresult\u001b[0m\u001b[0;34m.\u001b[0m\u001b[0mget\u001b[0m\u001b[0;34m(\u001b[0m\u001b[0;34m\"error\"\u001b[0m\u001b[0;34m)\u001b[0m\u001b[0;34m:\u001b[0m\u001b[0;34m\u001b[0m\u001b[0m\n\u001b[0;32m--> 290\u001b[0;31m             \u001b[0;32mraise\u001b[0m \u001b[0mGraphAPIError\u001b[0m\u001b[0;34m(\u001b[0m\u001b[0mresult\u001b[0m\u001b[0;34m)\u001b[0m\u001b[0;34m\u001b[0m\u001b[0m\n\u001b[0m\u001b[1;32m    291\u001b[0m         \u001b[0;32mreturn\u001b[0m \u001b[0mresult\u001b[0m\u001b[0;34m\u001b[0m\u001b[0m\n\u001b[1;32m    292\u001b[0m \u001b[0;34m\u001b[0m\u001b[0m\n",
      "\u001b[0;31mGraphAPIError\u001b[0m: (#4) Application request limit reached"
     ],
     "output_type": "error"
    }
   ],
   "source": [
    "FBScraper.insert_to_worksheet()"
   ]
  },
  {
   "cell_type": "code",
   "execution_count": null,
   "metadata": {},
   "outputs": [],
   "source": []
  }
 ],
 "metadata": {
  "kernelspec": {
   "display_name": "Python 2",
   "language": "python",
   "name": "python2"
  },
  "language_info": {
   "codemirror_mode": {
    "name": "ipython",
    "version": 2
   },
   "file_extension": ".py",
   "mimetype": "text/x-python",
   "name": "python",
   "nbconvert_exporter": "python",
   "pygments_lexer": "ipython2",
   "version": "2.7.6"
  }
 },
 "nbformat": 4,
 "nbformat_minor": 0
}
