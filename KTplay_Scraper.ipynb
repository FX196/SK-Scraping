{
 "cells": [
  {
   "cell_type": "code",
   "execution_count": 7,
   "metadata": {},
   "outputs": [],
   "source": [
    "import requests\n",
    "import urllib\n",
    "import urllib3\n",
    "from bs4 import BeautifulSoup as bs\n",
    "from openpyxl import Workbook\n",
    "import json\n",
    "import time\n",
    "import os\n",
    "import csv\n",
    "from fake_useragent import UserAgent\n",
    "from IPython.display import clear_output, display, Image\n",
    "from IPython.core.display import display, HTML\n",
    "from selenium import webdriver\n",
    "from selenium.webdriver.common.keys import Keys"
   ]
  },
  {
   "cell_type": "code",
   "execution_count": 27,
   "metadata": {},
   "outputs": [],
   "source": [
    "cn_url=\"https://i.ktplay.com/app/id101750/topic/21623543\"\n",
    "os_url=\"https://i.ktplay.com/app/id101780/topic/21628148\"\n",
    "store_dir = \"/Users/yuhongc/PycharmProjects/SK_Scraping/0102-New Year Event/元旦活动图片-en/\""
   ]
  },
  {
   "cell_type": "code",
   "execution_count": 10,
   "metadata": {
    "scrolled": true
   },
   "outputs": [],
   "source": [
    "driver = webdriver.Chrome()"
   ]
  },
  {
   "cell_type": "code",
   "execution_count": 12,
   "metadata": {},
   "outputs": [],
   "source": [
    "driver.get(os_url)"
   ]
  },
  {
   "cell_type": "code",
   "execution_count": 15,
   "metadata": {},
   "outputs": [],
   "source": [
    "#scroll to bottom\n",
    "start_time = time.time()\n",
    "SCROLL_PAUSE_TIME = 1.5\n",
    "\n",
    "# Get scroll height\n",
    "last_height = driver.execute_script(\"return document.body.scrollHeight\")\n",
    "\n",
    "while True:\n",
    "    # Scroll down to bottom\n",
    "    driver.execute_script(\"window.scrollTo(0, document.body.scrollHeight);\")\n",
    "\n",
    "    # Wait to load page\n",
    "    time.sleep(SCROLL_PAUSE_TIME)\n",
    "\n",
    "    # Calculate new scroll height and compare with last scroll height\n",
    "    new_height = driver.execute_script(\"return document.body.scrollHeight\")\n",
    "    if new_height == last_height or time.time()-start_time > 300:\n",
    "        break\n",
    "    last_height = new_height"
   ]
  },
  {
   "cell_type": "code",
   "execution_count": 28,
   "metadata": {},
   "outputs": [],
   "source": [
    "def save_image_from_url(pic_url, savename, save_dir):\n",
    "    with open(save_dir + savename + \".jpg\", 'wb') as handle:\n",
    "        response = requests.get(pic_url, stream=True)\n",
    "\n",
    "        if not response.ok:\n",
    "            return False\n",
    "\n",
    "        for block in response.iter_content(1024):\n",
    "            if not block:\n",
    "                break\n",
    "\n",
    "            handle.write(block)\n",
    "        return True"
   ]
  },
  {
   "cell_type": "code",
   "execution_count": 17,
   "metadata": {},
   "outputs": [],
   "source": [
    "os_source = driver.page_source"
   ]
  },
  {
   "cell_type": "code",
   "execution_count": 18,
   "metadata": {},
   "outputs": [],
   "source": [
    "# save page source so you don't have to wait another half hour to scroll everything\n",
    "with open(store_dir+\"../page_sources/os_source.txt\", \"w\") as file:\n",
    "    file.write(driver.page_source)"
   ]
  },
  {
   "cell_type": "code",
   "execution_count": 19,
   "metadata": {},
   "outputs": [],
   "source": [
    "with open(store_dir+\"../page_sources/os_source.txt\", \"r\") as file:\n",
    "    os_source = file.read()"
   ]
  },
  {
   "cell_type": "code",
   "execution_count": 20,
   "metadata": {},
   "outputs": [],
   "source": [
    "page_soup = bs(os_source, \"html.parser\")"
   ]
  },
  {
   "cell_type": "code",
   "execution_count": 21,
   "metadata": {},
   "outputs": [],
   "source": [
    "replies = page_soup.find_all(class_=\"reply-item\")\n",
    "replies = replies[::-1]"
   ]
  },
  {
   "cell_type": "code",
   "execution_count": 23,
   "metadata": {},
   "outputs": [
    {
     "data": {
      "text/plain": [
       "<div class=\"content-body\"><span class=\"pre-wrap\">#01#+Rogue+C6H806</span></div>"
      ]
     },
     "execution_count": 23,
     "metadata": {},
     "output_type": "execute_result"
    }
   ],
   "source": [
    "replies[2].find(class_=\"content-body\")"
   ]
  },
  {
   "cell_type": "code",
   "execution_count": 24,
   "metadata": {},
   "outputs": [
    {
     "data": {
      "text/plain": [
       "{'挑战1': ['#1#', '＃1＃', '#01#', '＃01＃'],\n",
       " '挑战2': ['#2#', '＃2＃', '#02#', '＃02＃'],\n",
       " '挑战3': ['#3#', '＃3＃', '#03#', '＃03＃']}"
      ]
     },
     "execution_count": 24,
     "metadata": {},
     "output_type": "execute_result"
    }
   ],
   "source": [
    "numbers = [\"1\",\"2\",\"3\",\"01\",\"02\",\"03\"]\n",
    "hashtags = [\"#\",\"＃\"]\n",
    "keys = {\"挑战\"+str(i):[h+n+h for n in numbers for h in hashtags if str(i) in n] for i in range(1,4)}\n",
    "keys"
   ]
  },
  {
   "cell_type": "code",
   "execution_count": 25,
   "metadata": {},
   "outputs": [],
   "source": [
    "wb = Workbook()\n",
    "ws = wb.active\n",
    "ws.title = \"挑战1\"\n",
    "wb.create_sheet(\"挑战2\")\n",
    "wb.create_sheet(\"挑战3\")\n",
    "for sheetname in wb.sheetnames:\n",
    "    ws = wb[sheetname]\n",
    "    for col, val in enumerate([\"编号\",\"回复内容\",\"昵称\"], start=1):\n",
    "        ws.cell(row=1, column=col).value=val\n",
    "wb.save(store_dir+\"对照信息.xlsx\")"
   ]
  },
  {
   "cell_type": "code",
   "execution_count": 42,
   "metadata": {},
   "outputs": [],
   "source": [
    "numbers = [\"1\",\"2\",\"3\",\"01\",\"02\",\"03\"]\n",
    "hashtags = [\"#\",\"＃\"]\n",
    "keys = {\"挑战\"+str(i):[h+n+h for n in numbers for h in hashtags if str(i) in n] for i in range(1,4)}\n",
    "keywords = sum(keys.values(),[])\n",
    "submission_counts = {\"挑战\"+str(i):0 for i in range(1,4)}\n",
    "\n",
    "\n",
    "\n",
    "def parse_comment(comment):\n",
    "    nickname = comment.find(class_=\"\").text[:-1]\n",
    "    comment_text = comment.find(class_=\"content-body\").text\n",
    "    image_urls = comment.find_all(class_=\"image\")\n",
    "    \n",
    "    #check if comment needs to be parsed\n",
    "    if not image_urls:\n",
    "        return False\n",
    "    parse = False\n",
    "    for keyword in keywords:\n",
    "        if keyword in comment_text:\n",
    "            parse = True\n",
    "            break\n",
    "    if not parse:\n",
    "        return False\n",
    "    \n",
    "    if comment_text.count(\"＃\")==2 or comment_text.count(\"#\")==2:\n",
    "        # just one submission\n",
    "        if len(image_urls)==1:\n",
    "            # normal people\n",
    "            for k, v in keys.items():\n",
    "                for keyword in v:\n",
    "                    if keyword in comment_text:\n",
    "                        challenge = k\n",
    "                        submission_counts[k]+=1\n",
    "                        if len(comment_text)>40:\n",
    "                            comment_text = comment_text[:40]\n",
    "                        if \"/\" in comment_text:\n",
    "                            comment_text = comment_text.replace(\"/\",\"|\")\n",
    "                        text_data = [str(submission_counts[k]), comment_text, nickname]\n",
    "                        save_image_from_url(image_urls[0]['src'],\" | \".join(text_data), store_dir+k+\"/\")\n",
    "                        ws = wb[k]\n",
    "                        for col, val in enumerate(text_data, start=1):\n",
    "                            ws.cell(row=submission_counts[k]+1, column=col).value = val\n",
    "                        return k\n",
    "    return comment_text\n",
    "    "
   ]
  },
  {
   "cell_type": "code",
   "execution_count": 45,
   "metadata": {},
   "outputs": [],
   "source": [
    "for reply in replies:\n",
    "    parse_comment(reply)"
   ]
  },
  {
   "cell_type": "code",
   "execution_count": 46,
   "metadata": {},
   "outputs": [],
   "source": [
    "wb.save(store_dir+\"对照信息.xlsx\")"
   ]
  },
  {
   "cell_type": "code",
   "execution_count": null,
   "metadata": {},
   "outputs": [],
   "source": []
  }
 ],
 "metadata": {
  "kernelspec": {
   "display_name": "csgo_stickers",
   "language": "python",
   "name": "csgo_stickerss"
  },
  "language_info": {
   "codemirror_mode": {
    "name": "ipython",
    "version": 3
   },
   "file_extension": ".py",
   "mimetype": "text/x-python",
   "name": "python",
   "nbconvert_exporter": "python",
   "pygments_lexer": "ipython3",
   "version": "3.7.0"
  }
 },
 "nbformat": 4,
 "nbformat_minor": 2
}
